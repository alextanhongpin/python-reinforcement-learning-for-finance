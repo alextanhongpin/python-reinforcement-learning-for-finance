{
 "cells": [
  {
   "cell_type": "markdown",
   "id": "6a3de0c3-7b20-48d7-8f3e-cb53dfbfef81",
   "metadata": {},
   "source": [
    "# Learning through Interaction"
   ]
  },
  {
   "cell_type": "markdown",
   "id": "205413fa-b7d3-4e5a-be90-381ba4fcdda8",
   "metadata": {},
   "source": [
    "## Tossing a biased coin"
   ]
  },
  {
   "cell_type": "code",
   "execution_count": 56,
   "id": "30ef0030-cf9e-42c7-9777-c5734e2f6c6c",
   "metadata": {},
   "outputs": [],
   "source": [
    "import numpy as np"
   ]
  },
  {
   "cell_type": "code",
   "execution_count": 57,
   "id": "c43a7603-efa5-4cac-b1d7-286c8a62df6a",
   "metadata": {},
   "outputs": [],
   "source": [
    "def simulate(epoch, state_space=None, action_space=None, n=250, seed=100):\n",
    "    rng = np.random.default_rng(seed=seed)\n",
    "    return np.array([epoch() for _ in range(n)]).mean()"
   ]
  },
  {
   "cell_type": "code",
   "execution_count": 58,
   "id": "01c8cfab-b534-4002-be49-1d7c5aef1d16",
   "metadata": {},
   "outputs": [],
   "source": [
    "def epoch():\n",
    "    total = 0\n",
    "    for _ in range(100):\n",
    "        action = rng.choice(action_space)\n",
    "        state = rng.choice(state_space)\n",
    "        if action == state:\n",
    "            total += 1\n",
    "    return total"
   ]
  },
  {
   "cell_type": "code",
   "execution_count": 44,
   "id": "debcb205-d4fe-4ee9-bb74-8f27d1819ab5",
   "metadata": {},
   "outputs": [
    {
     "data": {
      "text/plain": [
       "np.float64(49.84)"
      ]
     },
     "execution_count": 44,
     "metadata": {},
     "output_type": "execute_result"
    }
   ],
   "source": [
    "state_space = [1, 0]\n",
    "action_space = [1, 0]\n",
    "\n",
    "simulate(epoch, state_space, action_space)"
   ]
  },
  {
   "cell_type": "markdown",
   "id": "cafdf96d-2220-4c6d-b115-ec93379cf676",
   "metadata": {},
   "source": [
    "If the coin is unbiased, we will end up with 50% chances of getting half-head and half-tail."
   ]
  },
  {
   "cell_type": "code",
   "execution_count": 46,
   "id": "91371e8b-5ea6-4550-8b0f-3cf0794b8956",
   "metadata": {},
   "outputs": [
    {
     "data": {
      "text/plain": [
       "np.float64(50.168)"
      ]
     },
     "execution_count": 46,
     "metadata": {},
     "output_type": "execute_result"
    }
   ],
   "source": [
    "state_space = [1, 1, 1, 1, 0]  # 80% head\n",
    "action_space = [1, 0]\n",
    "\n",
    "simulate(epoch, state_space, action_space)"
   ]
  },
  {
   "cell_type": "markdown",
   "id": "33f3397e-eac0-41dc-bff2-c57f492f7738",
   "metadata": {},
   "source": [
    "Even if the coin is biased, if we pick head or tail 50% of the time, we still get half correct. The calculation is as follow:\n",
    "\n",
    "```\n",
    "percentage_head = 0.8\n",
    "percentage_tail = 0.2\n",
    "probability_correct = 0.5\n",
    "times = 100\n",
    "total = probability_correct * (percentage_head + percentage_tail) * times\n",
    "total = 50\n",
    "```"
   ]
  },
  {
   "cell_type": "code",
   "execution_count": 47,
   "id": "34948c76-c6ea-4a6f-bcb2-1f8f2c914f1c",
   "metadata": {},
   "outputs": [
    {
     "data": {
      "text/plain": [
       "np.float64(68.344)"
      ]
     },
     "execution_count": 47,
     "metadata": {},
     "output_type": "execute_result"
    }
   ],
   "source": [
    "state_space = [1, 1, 1, 1, 0]  # 80% head\n",
    "action_space = [1, 0]\n",
    "\n",
    "\n",
    "def epoch():\n",
    "    total = 0\n",
    "    for _ in range(100):\n",
    "        action = rng.choice(action_space)\n",
    "        state = rng.choice(state_space)\n",
    "        if action == state:\n",
    "            total += 1\n",
    "        action_space.append(state)\n",
    "    return total\n",
    "\n",
    "\n",
    "simulate(epoch, state_space, action_space)"
   ]
  },
  {
   "cell_type": "markdown",
   "id": "4cb56c4f-6be9-4571-9de0-9a1f663131cd",
   "metadata": {},
   "source": [
    "This time, we got more than 50% right. This is calculated as follow:\n",
    "\n",
    "```\n",
    "percentage_head = 0.8\n",
    "percentage_tail = 0.2\n",
    "probability_head_correct = 0.8\n",
    "probability_tail_correct = 0.2\n",
    "times = 100\n",
    "total = (percentage_head * probability_head_correct + percentage_tail * probability_tail_correct) * times\n",
    "total = 68\n",
    "```"
   ]
  },
  {
   "cell_type": "code",
   "execution_count": 48,
   "id": "65cb7ac7-cab1-4f89-9ee5-ecfd76f590ed",
   "metadata": {},
   "outputs": [
    {
     "data": {
      "text/plain": [
       "68.00000000000001"
      ]
     },
     "execution_count": 48,
     "metadata": {},
     "output_type": "execute_result"
    }
   ],
   "source": [
    "(0.8**2 + 0.2**2) * 100"
   ]
  },
  {
   "cell_type": "code",
   "execution_count": 50,
   "id": "dd1c629b-b99d-4196-81ed-4d2860fc5144",
   "metadata": {},
   "outputs": [
    {
     "data": {
      "text/plain": [
       "np.float64(80.068)"
      ]
     },
     "execution_count": 50,
     "metadata": {},
     "output_type": "execute_result"
    }
   ],
   "source": [
    "from collections import Counter\n",
    "\n",
    "state_space = [1, 1, 1, 1, 0]  # 80% head\n",
    "action_space = [1, 0]\n",
    "\n",
    "\n",
    "def epoch():\n",
    "    total = 0\n",
    "    for _ in range(100):\n",
    "        action = Counter(action_space).most_common()[0][0]\n",
    "        state = rng.choice(state_space)\n",
    "        if action == state:\n",
    "            total += 1\n",
    "        action_space.append(state)\n",
    "    return total\n",
    "\n",
    "\n",
    "simulate(epoch, state_space, action_space)"
   ]
  },
  {
   "cell_type": "markdown",
   "id": "00930733-2dec-4610-911a-70a5cedc80ca",
   "metadata": {},
   "source": [
    "In the last example, assuming we already know what is the actual probability of the biased coin, we can just pick head 100% of the time.\n",
    "\n",
    "```\n",
    "percentage_head = 1.0\n",
    "percentage_tail = 0.0\n",
    "probability_head_correct = 0.8\n",
    "probability_tail_correct = 0.2\n",
    "times = 100\n",
    "total = (percentage_head * probability_head_correct + percentage_tail * probability_tail_correct) * times\n",
    "total = (percentage_head * probability_head_correct + 0) * times\n",
    "total = 80\n",
    "```"
   ]
  },
  {
   "cell_type": "markdown",
   "id": "0e0238ba-1941-4e25-91fe-9c55fca67dd1",
   "metadata": {},
   "source": [
    "## Rolling a biased die"
   ]
  },
  {
   "cell_type": "code",
   "execution_count": 59,
   "id": "bdd46447-0319-49a8-a962-08d3e976bda2",
   "metadata": {},
   "outputs": [
    {
     "data": {
      "text/plain": [
       "np.float64(100.452)"
      ]
     },
     "execution_count": 59,
     "metadata": {},
     "output_type": "execute_result"
    }
   ],
   "source": [
    "# The probability of the outcome 4 is 5 times as likely as other number.\n",
    "state_space = [1, 2, 3, 4, 4, 4, 4, 4, 5, 6]\n",
    "action_space = [1, 2, 3, 4, 5, 6]\n",
    "\n",
    "\n",
    "def epoch():\n",
    "    total = 0\n",
    "    for _ in range(600):\n",
    "        action = rng.choice(action_space)\n",
    "        state = rng.choice(state_space)\n",
    "        if action == state:\n",
    "            total += 1\n",
    "    return total\n",
    "\n",
    "\n",
    "simulate(epoch, state_space, action_space)"
   ]
  },
  {
   "cell_type": "code",
   "execution_count": 62,
   "id": "d3e59d88-e544-471e-b95b-18a1450134cd",
   "metadata": {},
   "outputs": [
    {
     "data": {
      "text/plain": [
       "100.0"
      ]
     },
     "execution_count": 62,
     "metadata": {},
     "output_type": "execute_result"
    }
   ],
   "source": [
    "prob_1 = 0.1 * 1 / 6\n",
    "prob_2 = 0.1 * 1 / 6\n",
    "prob_3 = 0.1 * 1 / 6\n",
    "prob_4 = 0.5 * 1 / 6\n",
    "prob_5 = 0.1 * 1 / 6\n",
    "prob_6 = 0.1 * 1 / 6\n",
    "(prob_1 + prob_2 + prob_3 + prob_4 + prob_5 + prob_6) * 600"
   ]
  },
  {
   "cell_type": "code",
   "execution_count": 63,
   "id": "ac0d6e06-b455-461e-b523-ec0e56eeb0b2",
   "metadata": {},
   "outputs": [],
   "source": [
    "state_space = [1, 2, 3, 4, 4, 4, 4, 4, 5, 6]\n",
    "action_space = [1, 2, 3, 4, 5, 6]\n",
    "\n",
    "\n",
    "def epoch():\n",
    "    total = 0\n",
    "    for _ in range(600):\n",
    "        action = rng.choice(action_space)\n",
    "        state = rng.choice(state_space)\n",
    "        if action == state:\n",
    "            total += 1\n",
    "        action_space.append(state)\n",
    "    return total\n",
    "\n",
    "\n",
    "# This is taking too long\n",
    "# simulate(epoch, state_space, action_space)"
   ]
  },
  {
   "cell_type": "code",
   "execution_count": 66,
   "id": "b117edd4-d36a-4388-a9fa-740043e5c173",
   "metadata": {},
   "outputs": [
    {
     "data": {
      "text/plain": [
       "180.00000000000003"
      ]
     },
     "execution_count": 66,
     "metadata": {},
     "output_type": "execute_result"
    }
   ],
   "source": [
    "prob_1 = 0.1 * 1 / 10\n",
    "prob_2 = 0.1 * 1 / 10\n",
    "prob_3 = 0.1 * 1 / 10\n",
    "prob_4 = 0.5 * 5 / 10\n",
    "prob_5 = 0.1 * 1 / 10\n",
    "prob_6 = 0.1 * 1 / 10\n",
    "(prob_1 + prob_2 + prob_3 + prob_4 + prob_5 + prob_6) * 600"
   ]
  },
  {
   "cell_type": "markdown",
   "id": "743e8639-95e9-4d04-88f2-25165234293c",
   "metadata": {},
   "source": [
    "If the actual probablity of the die is known, we can just guess the number 4 100% of the time, which will yield 50% of the total reward."
   ]
  },
  {
   "cell_type": "code",
   "execution_count": 67,
   "id": "d566c1b6-5ff6-4299-9f2d-5a0c6886bf59",
   "metadata": {},
   "outputs": [
    {
     "data": {
      "text/plain": [
       "300.0"
      ]
     },
     "execution_count": 67,
     "metadata": {},
     "output_type": "execute_result"
    }
   ],
   "source": [
    "prob_1 = 0.0 * 1 / 10\n",
    "prob_2 = 0.0 * 1 / 10\n",
    "prob_3 = 0.0 * 1 / 10\n",
    "prob_4 = 1.0 * 5 / 10\n",
    "prob_5 = 0.0 * 1 / 10\n",
    "prob_6 = 0.0 * 1 / 10\n",
    "(prob_1 + prob_2 + prob_3 + prob_4 + prob_5 + prob_6) * 600"
   ]
  }
 ],
 "metadata": {
  "kernelspec": {
   "display_name": "Python 3 (ipykernel)",
   "language": "python",
   "name": "python3"
  },
  "language_info": {
   "codemirror_mode": {
    "name": "ipython",
    "version": 3
   },
   "file_extension": ".py",
   "mimetype": "text/x-python",
   "name": "python",
   "nbconvert_exporter": "python",
   "pygments_lexer": "ipython3",
   "version": "3.12.8"
  }
 },
 "nbformat": 4,
 "nbformat_minor": 5
}
