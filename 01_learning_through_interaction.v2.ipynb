{
 "cells": [
  {
   "cell_type": "markdown",
   "id": "ed0b9b0a-50b8-4079-8a17-129df482d51b",
   "metadata": {},
   "source": [
    "# Learning through interaction\n",
    "\n",
    "Code is optimized."
   ]
  },
  {
   "cell_type": "code",
   "execution_count": 1,
   "id": "cc5d68c2-e4a7-4f3b-81ac-fa4be0df1670",
   "metadata": {},
   "outputs": [],
   "source": [
    "import numpy as np"
   ]
  },
  {
   "cell_type": "code",
   "execution_count": 2,
   "id": "28acb981-f3b6-4e35-b585-69f42cfd98d4",
   "metadata": {},
   "outputs": [],
   "source": [
    "def simulate(epoch, state_space=None, action_space=None, n=250, seed=100):\n",
    "    np.random.seed(seed)\n",
    "    return np.array([epoch() for _ in range(n)]).mean()"
   ]
  },
  {
   "cell_type": "markdown",
   "id": "a362df5e-accf-4b17-86fb-a5e547a2fbf5",
   "metadata": {},
   "source": [
    "## Tossing a biased coin"
   ]
  },
  {
   "cell_type": "code",
   "execution_count": 3,
   "id": "e1425e19-ef4d-4476-b673-973faf1e6935",
   "metadata": {},
   "outputs": [
    {
     "data": {
      "text/plain": [
       "np.float64(50.236)"
      ]
     },
     "execution_count": 3,
     "metadata": {},
     "output_type": "execute_result"
    }
   ],
   "source": [
    "state_space = [1, 0]\n",
    "action_space = [1, 0]\n",
    "\n",
    "\n",
    "def epoch():\n",
    "    total = 0\n",
    "    for i in range(100):\n",
    "        action = np.random.choice(action_space)\n",
    "        state = np.random.choice(state_space)\n",
    "        if action == state:\n",
    "            total += 1\n",
    "    return total\n",
    "\n",
    "\n",
    "simulate(epoch, state_space, action_space)"
   ]
  },
  {
   "cell_type": "markdown",
   "id": "042a00a4-68ed-4405-98e2-a5aada83ae50",
   "metadata": {},
   "source": [
    "When we guess it head half of the time, we will get 50% chance of guessing it right."
   ]
  },
  {
   "cell_type": "code",
   "execution_count": 4,
   "id": "a1512363-4671-4124-96cc-531bf65b9172",
   "metadata": {},
   "outputs": [
    {
     "data": {
      "text/plain": [
       "50.0"
      ]
     },
     "execution_count": 4,
     "metadata": {},
     "output_type": "execute_result"
    }
   ],
   "source": [
    "is_head = 0.5 * 0.5 * 100  # prob is head x prob of guessing head x times\n",
    "is_tail = 0.5 * 0.5 * 100  # prob is tail x prob of guessing tail x times\n",
    "is_head + is_tail"
   ]
  },
  {
   "cell_type": "code",
   "execution_count": 5,
   "id": "ee0de9f5-9182-41ef-a50b-390081ff3623",
   "metadata": {},
   "outputs": [
    {
     "data": {
      "text/plain": [
       "np.float64(50.26)"
      ]
     },
     "execution_count": 5,
     "metadata": {},
     "output_type": "execute_result"
    }
   ],
   "source": [
    "state_space = [1, 1, 1, 1, 0]  # 80% head\n",
    "action_space = [1, 0]\n",
    "action_weights = [0.5, 0.5]\n",
    "\n",
    "\n",
    "def epoch():\n",
    "    total = 0\n",
    "    for i in range(100):\n",
    "        action = np.random.choice(action_space, p=action_weights)\n",
    "        state = np.random.choice(state_space)\n",
    "        if action == state:\n",
    "            total += 1\n",
    "    return total\n",
    "\n",
    "\n",
    "simulate(epoch, state_space, action_space)"
   ]
  },
  {
   "cell_type": "markdown",
   "id": "54118a46-887e-4ce9-aa0f-e2beeedc0796",
   "metadata": {},
   "source": [
    "Even if the coin is biased, but we still take equal actions (guessing half head and half tail), the max reward is just 50% of total rewards."
   ]
  },
  {
   "cell_type": "code",
   "execution_count": 6,
   "id": "39faad90-025b-42fb-845b-05491a28d912",
   "metadata": {},
   "outputs": [
    {
     "data": {
      "text/plain": [
       "np.float64(67.628)"
      ]
     },
     "execution_count": 6,
     "metadata": {},
     "output_type": "execute_result"
    }
   ],
   "source": [
    "state_space = [1, 1, 1, 1, 0]  # 80% head\n",
    "action_space = [0, 1]\n",
    "action_weights = [0.2, 0.8]\n",
    "\n",
    "\n",
    "simulate(epoch, state_space, action_space)"
   ]
  },
  {
   "cell_type": "markdown",
   "id": "90605bb4-0ace-466b-a39c-a2af08be84e5",
   "metadata": {},
   "source": [
    "When we start adding more weights to our decision by picking heads 80% of the time, our reward increases.\n",
    "The theoretical reward is $0.8^2 + 0.2^2 = 0.68$"
   ]
  },
  {
   "cell_type": "code",
   "execution_count": 7,
   "id": "710e9fbf-4678-4222-a963-b6e44e715f9e",
   "metadata": {},
   "outputs": [
    {
     "data": {
      "text/plain": [
       "68.00000000000001"
      ]
     },
     "execution_count": 7,
     "metadata": {},
     "output_type": "execute_result"
    }
   ],
   "source": [
    "is_head = 0.8 * 0.8 * 100  # prob is head x prob of guessing head x times\n",
    "is_tail = 0.2 * 0.2 * 100  # prob is tail x prob of guessing tail x times\n",
    "is_head + is_tail"
   ]
  },
  {
   "cell_type": "code",
   "execution_count": 8,
   "id": "cef6ebbb-2c3c-4215-969d-e037040b7462",
   "metadata": {},
   "outputs": [
    {
     "data": {
      "text/plain": [
       "np.float64(79.7)"
      ]
     },
     "execution_count": 8,
     "metadata": {},
     "output_type": "execute_result"
    }
   ],
   "source": [
    "state_space = [1, 1, 1, 1, 0]  # 80% head\n",
    "action_space = [0, 1]\n",
    "action_weights = [0, 1]  # 100% head\n",
    "\n",
    "\n",
    "simulate(epoch, state_space, action_space)"
   ]
  },
  {
   "cell_type": "code",
   "execution_count": 9,
   "id": "1be253c6-d57c-4c37-8a07-fe3113f03714",
   "metadata": {},
   "outputs": [
    {
     "data": {
      "text/plain": [
       "80.0"
      ]
     },
     "execution_count": 9,
     "metadata": {},
     "output_type": "execute_result"
    }
   ],
   "source": [
    "is_head = 0.8 * 1.0 * 100  # prob is head x prob of guessing head x times\n",
    "is_tail = 0.2 * 0.0 * 100  # prob is tail x prob of guessing tail x times\n",
    "is_head + is_tail"
   ]
  },
  {
   "cell_type": "markdown",
   "id": "a9bbfe7b-bea3-4dc4-afe2-a7624abf5334",
   "metadata": {},
   "source": [
    "If we already know the coin is biased, we can simply choose head 100% of the time, and end up with the maximum reward of 80$."
   ]
  },
  {
   "cell_type": "markdown",
   "id": "8cdfc2d1-58a6-46ef-9135-eb883a021788",
   "metadata": {},
   "source": [
    "## Rolling a biased die"
   ]
  },
  {
   "cell_type": "code",
   "execution_count": 11,
   "id": "20b4734f-1b7d-42d3-9d0a-6a1d7e5f9901",
   "metadata": {},
   "outputs": [
    {
     "data": {
      "text/plain": [
       "np.float64(100.236)"
      ]
     },
     "execution_count": 11,
     "metadata": {},
     "output_type": "execute_result"
    }
   ],
   "source": [
    "# The probability of the outcome 4 is 5 times as likely as other number.\n",
    "state_space = [1, 2, 3, 4, 4, 4, 4, 4, 5, 6]\n",
    "action_space = [1, 2, 3, 4, 5, 6]\n",
    "action_weights = [1/6 for i in range(6)]\n",
    "\n",
    "\n",
    "def epoch():\n",
    "    total = 0\n",
    "    for _ in range(600):\n",
    "        action = np.random.choice(action_space, p=action_weights)\n",
    "        state = np.random.choice(state_space)\n",
    "        if action == state:\n",
    "            total += 1\n",
    "    return total\n",
    "\n",
    "\n",
    "simulate(epoch, state_space, action_space)"
   ]
  },
  {
   "cell_type": "code",
   "execution_count": 12,
   "id": "52b25ccb-960c-427d-9374-c5dcec068f13",
   "metadata": {},
   "outputs": [
    {
     "data": {
      "text/plain": [
       "100.0"
      ]
     },
     "execution_count": 12,
     "metadata": {},
     "output_type": "execute_result"
    }
   ],
   "source": [
    "# probablity of getting number n x probability of guessing number n\n",
    "sum(\n",
    "    [\n",
    "        0.1 * 1 / 6,\n",
    "        0.1 * 1 / 6,\n",
    "        0.1 * 1 / 6,\n",
    "        0.5 * 1 / 6,\n",
    "        0.1 * 1 / 6,\n",
    "        0.1 * 1 / 6,\n",
    "    ]\n",
    ") * 600"
   ]
  },
  {
   "cell_type": "code",
   "execution_count": 13,
   "id": "42581f5a-b98f-48f1-b12b-a3b989bc4593",
   "metadata": {},
   "outputs": [
    {
     "data": {
      "text/plain": [
       "np.float64(180.4)"
      ]
     },
     "execution_count": 13,
     "metadata": {},
     "output_type": "execute_result"
    }
   ],
   "source": [
    "# The probability of the outcome 4 is 5 times as likely as other number.\n",
    "state_space = [1, 2, 3, 4, 4, 4, 4, 4, 5, 6]\n",
    "action_space = [1, 2, 3, 4, 5, 6]\n",
    "# Choose number 4 five times more than the rest.\n",
    "action_weights = [\n",
    "    0.1,\n",
    "    0.1,\n",
    "    0.1,\n",
    "    0.5,\n",
    "    0.1,\n",
    "    0.1,\n",
    "]\n",
    "\n",
    "\n",
    "simulate(epoch, state_space, action_space)"
   ]
  },
  {
   "cell_type": "code",
   "execution_count": 14,
   "id": "96613017-c600-4a8c-8ff2-561c4a635e91",
   "metadata": {},
   "outputs": [
    {
     "data": {
      "text/plain": [
       "np.float64(300.628)"
      ]
     },
     "execution_count": 14,
     "metadata": {},
     "output_type": "execute_result"
    }
   ],
   "source": [
    "# The probability of the outcome 4 is 5 times as likely as other number.\n",
    "state_space = [1, 2, 3, 4, 4, 4, 4, 4, 5, 6]\n",
    "action_space = [1, 2, 3, 4, 5, 6]\n",
    "action_weights = [0, 0, 0, 1, 0, 0]  # Choose number 4 every time.\n",
    "\n",
    "\n",
    "simulate(epoch, state_space, action_space)"
   ]
  }
 ],
 "metadata": {
  "kernelspec": {
   "display_name": "Python 3 (ipykernel)",
   "language": "python",
   "name": "python3"
  },
  "language_info": {
   "codemirror_mode": {
    "name": "ipython",
    "version": 3
   },
   "file_extension": ".py",
   "mimetype": "text/x-python",
   "name": "python",
   "nbconvert_exporter": "python",
   "pygments_lexer": "ipython3",
   "version": "3.12.8"
  }
 },
 "nbformat": 4,
 "nbformat_minor": 5
}
